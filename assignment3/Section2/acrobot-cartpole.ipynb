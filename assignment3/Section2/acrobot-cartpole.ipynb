{
 "cells": [
  {
   "metadata": {
    "ExecuteTime": {
     "end_time": "2025-01-04T17:27:26.450227Z",
     "start_time": "2025-01-04T17:27:25.186139Z"
    }
   },
   "cell_type": "code",
   "source": [
    "import time\n",
    "\n",
    "import gymnasium\n",
    "import torch\n",
    "from torch import nn\n",
    "from torch.optim import Adam\n",
    "from torch.utils.tensorboard import SummaryWriter\n",
    "\n",
    "from assignment3.Section1.CartPole_AcroBot.dim_alignment import max_input_dim, max_output_dim\n",
    "from assignment3.Section1.CartPole_AcroBot.models import PolicyNetwork, ValueNetwork\n",
    "from assignment3.Section1.CartPole_AcroBot.action_selector import ActionSelector\n",
    "from assignment3.Section1.CartPole_AcroBot.device import get_device\n",
    "from assignment3.Section1.CartPole_AcroBot.training_loop import training_loop"
   ],
   "id": "1984e03547cdb349",
   "outputs": [],
   "execution_count": 1
  },
  {
   "metadata": {
    "ExecuteTime": {
     "end_time": "2025-01-04T17:27:26.481481Z",
     "start_time": "2025-01-04T17:27:26.454482Z"
    }
   },
   "cell_type": "code",
   "source": [
    "device = get_device()\n",
    "writer = SummaryWriter('runs/fine_tuning')"
   ],
   "id": "49dc143a91b16119",
   "outputs": [],
   "execution_count": 2
  },
  {
   "metadata": {
    "ExecuteTime": {
     "end_time": "2025-01-04T17:27:26.542563Z",
     "start_time": "2025-01-04T17:27:26.528486Z"
    }
   },
   "cell_type": "code",
   "source": [
    "def reinitialize_output_layer(model):\n",
    "    for name, module in model.named_modules():\n",
    "        if isinstance(module, nn.Linear) and module.out_features == 3:\n",
    "            nn.init.xavier_uniform_(module.weight)\n",
    "            if module.bias is not None:\n",
    "                nn.init.zeros_(module.bias)\n",
    "    return model"
   ],
   "id": "30a687a7a55160a0",
   "outputs": [],
   "execution_count": 3
  },
  {
   "metadata": {
    "ExecuteTime": {
     "end_time": "2025-01-04T17:27:26.712700Z",
     "start_time": "2025-01-04T17:27:26.573495Z"
    }
   },
   "cell_type": "code",
   "source": [
    "# Load the pre-trained Acrobot model\n",
    "acrobot_policy_network = PolicyNetwork(max_input_dim, [32, 64, 32], max_output_dim).to(device)\n",
    "acrobot_policy_network.load_state_dict(torch.load(\n",
    "    '../Section1/CartPole_AcroBot/models/Acrobot-v1/best/policy.pth',\n",
    "    map_location=device\n",
    "))\n",
    "\n",
    "acrobot_policy_network = reinitialize_output_layer(acrobot_policy_network)\n",
    "acrobot_policy_network.train()"
   ],
   "id": "30389e6a22d52e59",
   "outputs": [
    {
     "name": "stderr",
     "output_type": "stream",
     "text": [
      "C:\\Users\\forgedRice\\AppData\\Local\\Temp\\ipykernel_55664\\3706983604.py:3: FutureWarning: You are using `torch.load` with `weights_only=False` (the current default value), which uses the default pickle module implicitly. It is possible to construct malicious pickle data which will execute arbitrary code during unpickling (See https://github.com/pytorch/pytorch/blob/main/SECURITY.md#untrusted-models for more details). In a future release, the default value for `weights_only` will be flipped to `True`. This limits the functions that could be executed during unpickling. Arbitrary objects will no longer be allowed to be loaded via this mode unless they are explicitly allowlisted by the user via `torch.serialization.add_safe_globals`. We recommend you start setting `weights_only=True` for any use case where you don't have full control of the loaded file. Please open an issue on GitHub for any issues related to this experimental feature.\n",
      "  acrobot_policy_network.load_state_dict(torch.load(\n"
     ]
    },
    {
     "data": {
      "text/plain": [
       "PolicyNetwork(\n",
       "  (model): Sequential(\n",
       "    (0): Linear(in_features=6, out_features=32, bias=True)\n",
       "    (1): ReLU()\n",
       "    (2): Linear(in_features=32, out_features=64, bias=True)\n",
       "    (3): ReLU()\n",
       "    (4): Linear(in_features=64, out_features=32, bias=True)\n",
       "    (5): ReLU()\n",
       "    (6): Linear(in_features=32, out_features=3, bias=True)\n",
       "  )\n",
       ")"
      ]
     },
     "execution_count": 4,
     "metadata": {},
     "output_type": "execute_result"
    }
   ],
   "execution_count": 4
  },
  {
   "metadata": {
    "ExecuteTime": {
     "end_time": "2025-01-04T17:27:26.728011Z",
     "start_time": "2025-01-04T17:27:26.715700Z"
    }
   },
   "cell_type": "code",
   "source": [
    "# best hyperparameters\n",
    "# hidden_sizes_theta = [32, 64, 32]\n",
    "hidden_sizes_w = [16, 32, 16]\n",
    "alpha_theta = 0.0007\n",
    "alpha_w = 0.0006000000000000001\n",
    "gamma = 0.98\n",
    "\n",
    "episodes = 1000"
   ],
   "id": "adc2f5e5bfa430b2",
   "outputs": [],
   "execution_count": 5
  },
  {
   "cell_type": "code",
   "id": "initial_id",
   "metadata": {
    "collapsed": true,
    "ExecuteTime": {
     "end_time": "2025-01-04T17:27:57.735377Z",
     "start_time": "2025-01-04T17:27:26.744696Z"
    }
   },
   "source": [
    "# Initialize the Value Network\n",
    "value_network = ValueNetwork(max_input_dim, hidden_sizes_w).to(device)\n",
    "value_network.train()\n",
    "\n",
    "# Initialize optimizers\n",
    "policy_optimizer = Adam(acrobot_policy_network.parameters(), lr=alpha_theta)\n",
    "value_optimizer = Adam(value_network.parameters(), lr=alpha_w)\n",
    "\n",
    "# Initialize TensorBoard writer\n",
    "writer = SummaryWriter(log_dir='fine_tuning_acrobot_to_cartpole')\n",
    "\n",
    "# Initialize rewards tracking\n",
    "rewards_per_episode = []\n",
    "\n",
    "# Initialize the action selector\n",
    "action_selector = ActionSelector()\n",
    "\n",
    "# Set up the CartPole environment\n",
    "env = gymnasium.make(\"CartPole-v1\")\n",
    "\n",
    "\n",
    "# Start fine-tuning\n",
    "start_time = time.time()\n",
    "\n",
    "train_time, avg_reward = training_loop(\n",
    "    input_dim=max_input_dim,\n",
    "    actual_act_dim=env.action_space.n,  # CartPole has 2 actions\n",
    "    policy_network=acrobot_policy_network,\n",
    "    value_network=value_network,\n",
    "    policy_optimizer=policy_optimizer,\n",
    "    value_optimizer=value_optimizer,\n",
    "    env=env,\n",
    "    env_name=\"CartPole-v1\",\n",
    "    episodes=episodes,\n",
    "    gamma=gamma,\n",
    "    writer=writer,\n",
    "    rewards_per_episode=rewards_per_episode,\n",
    "    action_selector=action_selector\n",
    ")\n",
    "\n",
    "print(f\"Fine-tuning completed in {train_time:.2f} seconds.\")\n",
    "print(f\"Average Reward {avg_reward:.2f}.\")\n",
    "print(f\"Total episodes trained: {len(rewards_per_episode)}\")\n",
    "\n",
    "# Save the fine-tuned model\n",
    "torch.save(acrobot_policy_network.state_dict(), 'models/fine_tuned_acrobot_to_cartpole.pth')\n",
    "torch.save(value_network.state_dict(), 'models/fine_tuned_acrobot_to_cartpole_value.pth')\n",
    "\n",
    "writer.close()"
   ],
   "outputs": [
    {
     "name": "stderr",
     "output_type": "stream",
     "text": [
      "Training: 100%|██████████| 1000/1000 [00:30<00:00, 32.92episode/s, Avg Reward(100)=9.42]"
     ]
    },
    {
     "name": "stdout",
     "output_type": "stream",
     "text": [
      "Fine-tuning completed in 30.38 seconds.\n",
      "Average Reward 9.42.\n",
      "Total episodes trained: 1000\n"
     ]
    },
    {
     "name": "stderr",
     "output_type": "stream",
     "text": [
      "\n"
     ]
    }
   ],
   "execution_count": 6
  },
  {
   "metadata": {
    "ExecuteTime": {
     "end_time": "2025-01-04T17:27:57.766202Z",
     "start_time": "2025-01-04T17:27:57.751725Z"
    }
   },
   "cell_type": "code",
   "source": "",
   "id": "d50c1db999dcab93",
   "outputs": [],
   "execution_count": null
  }
 ],
 "metadata": {
  "kernelspec": {
   "display_name": "Python 3",
   "language": "python",
   "name": "python3"
  },
  "language_info": {
   "codemirror_mode": {
    "name": "ipython",
    "version": 2
   },
   "file_extension": ".py",
   "mimetype": "text/x-python",
   "name": "python",
   "nbconvert_exporter": "python",
   "pygments_lexer": "ipython2",
   "version": "2.7.6"
  }
 },
 "nbformat": 4,
 "nbformat_minor": 5
}
