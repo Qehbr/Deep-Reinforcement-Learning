{
 "cells": [
  {
   "cell_type": "code",
   "id": "initial_id",
   "metadata": {
    "collapsed": true,
    "ExecuteTime": {
     "end_time": "2025-01-09T07:26:14.840838Z",
     "start_time": "2025-01-09T07:26:13.245360Z"
    }
   },
   "source": [
    "import time\n",
    "import gymnasium\n",
    "import numpy as np\n",
    "import optuna\n",
    "import torch\n",
    "from torch import nn\n",
    "from torch.optim import Adam\n",
    "from torch.utils.tensorboard import SummaryWriter\n",
    "from tqdm import tqdm\n",
    "\n",
    "from assignment3.Section1.CartPole_AcroBot.action_selector import ActionSelector\n",
    "from assignment3.Section1.CartPole_AcroBot.device import get_device\n",
    "from assignment3.Section1.CartPole_AcroBot.models import PolicyNetwork, ValueNetwork\n",
    "from assignment3.Section1.CartPole_AcroBot.dim_alignment import max_input_dim, max_output_dim\n",
    "from assignment3.Section1.MountainCarContinuous.models import UnifiedPolicyNetwork\n",
    "\n",
    "device = get_device()\n"
   ],
   "outputs": [
    {
     "name": "stderr",
     "output_type": "stream",
     "text": [
      "C:\\Users\\rusanov\\.conda\\envs\\DRL\\Lib\\site-packages\\tqdm\\auto.py:21: TqdmWarning: IProgress not found. Please update jupyter and ipywidgets. See https://ipywidgets.readthedocs.io/en/stable/user_install.html\n",
      "  from .autonotebook import tqdm as notebook_tqdm\n"
     ]
    }
   ],
   "execution_count": 1
  },
  {
   "metadata": {
    "ExecuteTime": {
     "end_time": "2025-01-09T07:26:14.851381Z",
     "start_time": "2025-01-09T07:26:14.840838Z"
    }
   },
   "cell_type": "code",
   "source": [
    "def load_source_networks(device, max_input_dim, max_output_dim):\n",
    "    \"\"\"\n",
    "    Loads pre-trained Acrobot and MountainCarContinuous networks\n",
    "    and freezes them (requires_grad=False).\n",
    "    \"\"\"\n",
    "    # ---- Source 1: Acrobot Policy (discrete) ----\n",
    "    acrobot_policy = PolicyNetwork(\n",
    "        input_dim=max_input_dim,\n",
    "        hidden_sizes=[32, 64, 32],\n",
    "        output_dim=max_output_dim\n",
    "    ).to(device)\n",
    "    acrobot_policy.load_state_dict(torch.load(\n",
    "        '../Section1/CartPole_AcroBot/models/Acrobot-v1/best/policy.pth',\n",
    "        map_location=device,\n",
    "        weights_only=True  # Add this parameter\n",
    "    ))\n",
    "    acrobot_policy.eval()\n",
    "    for param in acrobot_policy.parameters():\n",
    "        param.requires_grad = False\n",
    "\n",
    "    # ---- Source 2: MountainCarContinuous Policy (continuous) ----\n",
    "    mountaincar_policy = UnifiedPolicyNetwork(\n",
    "        input_dim=max_input_dim,\n",
    "        hidden_sizes=[256],\n",
    "        output_dim=max_output_dim\n",
    "    ).to(device)\n",
    "    mountaincar_policy.load_state_dict(torch.load(\n",
    "        '../Section1/MountainCarContinuous/models/BestModel/policy.pth',\n",
    "        map_location=device,\n",
    "        weights_only=True  # Add this parameter\n",
    "    ))\n",
    "    mountaincar_policy.eval()\n",
    "    for param in mountaincar_policy.parameters():\n",
    "        param.requires_grad = False\n",
    "\n",
    "    return acrobot_policy, mountaincar_policy"
   ],
   "id": "d96fa4811c4532d4",
   "outputs": [],
   "execution_count": 2
  },
  {
   "metadata": {
    "ExecuteTime": {
     "end_time": "2025-01-09T07:26:14.903176Z",
     "start_time": "2025-01-09T07:26:14.896304Z"
    }
   },
   "cell_type": "code",
   "source": [
    "class ProgressiveCartPoleNetwork(nn.Module):\n",
    "    def __init__(\n",
    "            self,\n",
    "            source_acrobot,  # has hidden [32, 64, 32]\n",
    "            source_mountaincar,  # has hidden [256]\n",
    "            target_hidden_sizes=[32, 64, 32],  # CartPole\n",
    "            input_dim=6,\n",
    "            output_dim=2\n",
    "    ):\n",
    "        super().__init__()\n",
    "\n",
    "        # Freeze source networks & store them.\n",
    "        self.source_acrobot = source_acrobot.eval()\n",
    "        self.source_mountaincar = source_mountaincar.eval()\n",
    "        for p in self.source_acrobot.parameters():\n",
    "            p.requires_grad = False\n",
    "        for p in self.source_mountaincar.parameters():\n",
    "            p.requires_grad = False\n",
    "\n",
    "        # Extract the layers from each source so we can get hidden activations\n",
    "        self.acrobot_layers = nn.Sequential(*self.source_acrobot.model)\n",
    "        self.mountaincar_layers = nn.Sequential(*self.source_mountaincar.model)\n",
    "\n",
    "        # Build the target's hidden layers\n",
    "        self.target_hidden_layers = nn.ModuleList()\n",
    "        prev_size = input_dim\n",
    "        for hs in target_hidden_sizes:  # e.g. [32, 64, 32]\n",
    "            self.target_hidden_layers.append(nn.Linear(prev_size, hs))\n",
    "            prev_size = hs\n",
    "\n",
    "        # Final output layer\n",
    "        self.final_layer = nn.Linear(prev_size, output_dim)\n",
    "\n",
    "        # ADAPTERS:\n",
    "        # Define an adapter for each \"top\" connection that has dimension mismatch\n",
    "        # Acrobot top layer is 32 => CartPole top is 32 (same) => identity is fine\n",
    "        # MountainCar top layer is 256 => CartPole top is 32 => need linear\n",
    "        self.adapter_acrobot_3 = nn.Identity()\n",
    "        self.adapter_mountaincar_1 = nn.Linear(256, 32, bias=False)\n",
    "\n",
    "        self.adapter_acrobot_2 = nn.Identity()\n",
    "        self.adapter_acrobot_1 = nn.Identity()\n",
    "        # (MountainCar has no 2nd or 1st layer to connect, so skip.)\n",
    "\n",
    "    def forward_source_acrobot(self, x):\n",
    "        \"\"\"\n",
    "        Forward x through the Acrobot net, capturing hidden activations after each layer+ReLU.\n",
    "        We'll store them in a list [act1, act2, act3].\n",
    "        \"\"\"\n",
    "        activations = []\n",
    "        current = x\n",
    "        relu_count = 0\n",
    "\n",
    "        for layer in self.acrobot_layers:\n",
    "            current = layer(current)\n",
    "            if isinstance(layer, nn.ReLU):\n",
    "                activations.append(current.clone())\n",
    "                relu_count += 1\n",
    "                if relu_count == 3:\n",
    "                    break\n",
    "        return activations  \n",
    "\n",
    "    def forward_source_mountaincar(self, x):\n",
    "        \"\"\"\n",
    "        MountainCar net has 1 hidden layer of size 256 (plus final mean/std layers).\n",
    "        We'll capture the output after that 256 -> ReLU, ignoring the final mean/std.\n",
    "        \"\"\"\n",
    "        activations = []\n",
    "        current = x\n",
    "        for layer in self.mountaincar_layers:\n",
    "            current = layer(current)\n",
    "            if isinstance(layer, nn.ReLU):\n",
    "                # This is the single hidden layer output (256)\n",
    "                activations.append(current.clone())\n",
    "                break\n",
    "        return activations\n",
    "\n",
    "    def forward(self, x):\n",
    "        # get hidden states from each source\n",
    "        acrobot_hiddens = self.forward_source_acrobot(x) \n",
    "        mountaincar_hiddens = self.forward_source_mountaincar(x) \n",
    "\n",
    "        # forward through target layers\n",
    "        current = x\n",
    "        # Target layer 1 (size 32)\n",
    "        out_target_1 = self.target_hidden_layers[0](current)  # => shape(?,32)\n",
    "        # Combine with acrobot's 1st hidden (32). MountainCar has no “1st hidden” beyond the single top layer\n",
    "        out_ac_1 = self.adapter_acrobot_1(acrobot_hiddens[0])  # shape(?,32)\n",
    "        current = out_target_1 + out_ac_1\n",
    "        current = nn.functional.relu(current)\n",
    "\n",
    "        # Target layer 2 (size 64)\n",
    "        out_target_2 = self.target_hidden_layers[1](current)  # => shape(?,64)\n",
    "        out_ac_2 = self.adapter_acrobot_2(acrobot_hiddens[1])  # shape(?,64)\n",
    "        current = out_target_2 + out_ac_2\n",
    "        current = nn.functional.relu(current)\n",
    "\n",
    "        # Target layer 3 (size 32)\n",
    "        out_target_3 = self.target_hidden_layers[2](current)  # => shape(?,32)\n",
    "        out_ac_3 = self.adapter_acrobot_3(acrobot_hiddens[2])  # shape(?,32)\n",
    "\n",
    "        # MountainCar only has 1 hidden layer (256), so connect it here with an adapter\n",
    "        out_mc_1 = self.adapter_mountaincar_1(mountaincar_hiddens[0])  # shape(?,32)\n",
    "\n",
    "        # Combine them\n",
    "        current = out_target_3 + out_ac_3 + out_mc_1\n",
    "        current = nn.functional.relu(current)\n",
    "\n",
    "        # final linear -> logits -> softmax for discrete actions\n",
    "        logits = self.final_layer(current)\n",
    "        return torch.softmax(logits, dim=-1) + 1e-8\n"
   ],
   "id": "976c7bb8a7f9c299",
   "outputs": [],
   "execution_count": 3
  },
  {
   "metadata": {
    "ExecuteTime": {
     "end_time": "2025-01-09T07:26:14.912074Z",
     "start_time": "2025-01-09T07:26:14.907433Z"
    }
   },
   "cell_type": "code",
   "source": [
    "def pad_state(state, target_dim=6):\n",
    "    \"\"\"\n",
    "    Given a 1D state vector (e.g., from CartPole with shape (4,)),\n",
    "    return a zero-padded vector of length `target_dim` (e.g., 6).\n",
    "    \"\"\"\n",
    "    state = np.array(state, dtype=np.float32)  # ensure numpy float32\n",
    "    if state.shape[0] == target_dim:\n",
    "        return state  # already the right size\n",
    "    elif state.shape[0] < target_dim:\n",
    "        # pad zeros at the end\n",
    "        padded = np.zeros((target_dim,), dtype=np.float32)\n",
    "        padded[: state.shape[0]] = state\n",
    "        return padded\n",
    "    else:\n",
    "        raise ValueError(f\"State has more dimensions ({state.shape[0]}) than target_dim ({target_dim}).\")"
   ],
   "id": "6ed6e73851b18ddd",
   "outputs": [],
   "execution_count": 4
  },
  {
   "metadata": {
    "ExecuteTime": {
     "end_time": "2025-01-09T07:26:14.923579Z",
     "start_time": "2025-01-09T07:26:14.916202Z"
    }
   },
   "cell_type": "code",
   "source": [
    "def train_progressive_cartpole_actor_critic(\n",
    "        device,\n",
    "        source_acrobot,\n",
    "        source_mountaincar,\n",
    "        env_name=\"CartPole-v1\",\n",
    "        episodes=1000,\n",
    "        gamma=0.98,\n",
    "        alpha_t=1e-3,\n",
    "        alpha_w=1e-3,\n",
    "        hidden_sizes_t=[32, 64, 32],\n",
    "        hidden_sizes_w=[32, 64, 32],\n",
    "        writer=None\n",
    "):\n",
    "    \"\"\"\n",
    "    Trains the progressive CartPole network using an Actor-Critic approach:\n",
    "      - 1-step TD error\n",
    "      - Policy update via delta\n",
    "      - Value update via delta\n",
    "    \"\"\"\n",
    "    # Make the environment\n",
    "    env = gymnasium.make(env_name)\n",
    "\n",
    "    # Progressive policy network (frozen sources + new target)\n",
    "    policy_network = ProgressiveCartPoleNetwork(\n",
    "        source_acrobot=source_acrobot,\n",
    "        source_mountaincar=source_mountaincar,\n",
    "        target_hidden_sizes=hidden_sizes_t,\n",
    "        input_dim=max_input_dim,  # we will pad CartPole(4) up to 6\n",
    "        output_dim=2\n",
    "    ).to(device)\n",
    "\n",
    "    # Value network\n",
    "    value_network = ValueNetwork(\n",
    "        input_dim=max_input_dim,  # also 6\n",
    "        hidden_sizes=hidden_sizes_w\n",
    "    ).to(device)\n",
    "\n",
    "    policy_optimizer = Adam(policy_network.parameters(), lr=alpha_t)\n",
    "    value_optimizer = Adam(value_network.parameters(), lr=alpha_w)\n",
    "\n",
    "    # Simple action-selector for discrete actions\n",
    "    action_selector = ActionSelector()\n",
    "\n",
    "    # Logging\n",
    "    rewards_per_episode = []\n",
    "    start_time = time.time()\n",
    "\n",
    "    best_avg_reward = float('-inf')\n",
    "\n",
    "    # Training loop (Actor-Critic)\n",
    "    with tqdm(total=episodes, desc=\"Training\", unit=\"episode\") as pbar:\n",
    "        for episode in range(episodes):\n",
    "            state, _ = env.reset()\n",
    "            done = False\n",
    "            truncated = False\n",
    "            total_reward = 0.0\n",
    "\n",
    "            I = 1.0  # discount factor for policy updates\n",
    "\n",
    "            while not (done or truncated):\n",
    "                # Pad the state to 6D\n",
    "                padded_state = pad_state(state, target_dim=max_input_dim)\n",
    "                state_tensor = torch.tensor(\n",
    "                    padded_state, dtype=torch.float32, device=device\n",
    "                ).unsqueeze(0)  # shape [1,6]\n",
    "\n",
    "                # Forward pass: policy network\n",
    "                action_probs = policy_network(state_tensor)  # shape [1,2]\n",
    "                # sample discrete action\n",
    "                action, log_prob_action = action_selector.select_action(\n",
    "                    action_probs, valid_action_dim=2\n",
    "                )\n",
    "\n",
    "                # Step in environment\n",
    "                next_state, reward, done, truncated, info = env.step(action)\n",
    "                total_reward += reward\n",
    "\n",
    "                # Pad next state\n",
    "                padded_next_state = pad_state(next_state, target_dim=max_input_dim)\n",
    "                next_state_tensor = torch.tensor(\n",
    "                    padded_next_state, dtype=torch.float32, device=device\n",
    "                ).unsqueeze(0)\n",
    "\n",
    "                # Current value\n",
    "                value = value_network(state_tensor)  # shape [1,1]\n",
    "                # Next value\n",
    "                with torch.no_grad():\n",
    "                    next_value = (\n",
    "                        value_network(next_state_tensor)\n",
    "                        if not (done or truncated)\n",
    "                        else torch.tensor([[0.0]], device=device)\n",
    "                    )\n",
    "\n",
    "                # TD error\n",
    "                delta = reward + gamma * next_value - value\n",
    "\n",
    "                # Value loss: we do gradient ascent on negative loss => negative of (value * delta)\n",
    "                value_loss = -value * delta.detach() * I\n",
    "                value_optimizer.zero_grad()\n",
    "                value_loss.backward()\n",
    "                value_optimizer.step()\n",
    "\n",
    "                # Policy loss\n",
    "                policy_loss = -log_prob_action * delta.detach() * I\n",
    "                policy_optimizer.zero_grad()\n",
    "                policy_loss.backward()\n",
    "                policy_optimizer.step()\n",
    "\n",
    "                # Update multiplier\n",
    "                I *= gamma\n",
    "\n",
    "                # Move on\n",
    "                state = next_state\n",
    "\n",
    "            # Logging\n",
    "            rewards_per_episode.append(total_reward)\n",
    "            if writer is not None:\n",
    "                writer.add_scalar(\"ActorCritic/Episode_Reward\", total_reward, episode)\n",
    "                writer.add_scalar(\"ActorCritic/ValueLoss\", value_loss.item(), episode)\n",
    "\n",
    "            # Check average reward\n",
    "            avg_reward_100 = np.mean(rewards_per_episode[-100:])\n",
    "\n",
    "            if episode > 100:\n",
    "                best_avg_reward = max(best_avg_reward, avg_reward_100)\n",
    "\n",
    "            pbar.set_postfix({'Avg(100)': f\"{avg_reward_100:.2f}\"})\n",
    "            pbar.update(1)\n",
    "\n",
    "            # Possibly check if solved\n",
    "            if env_name == \"CartPole-v1\" and avg_reward_100 >= 475.0:\n",
    "                print(f\"Solved CartPole in {episode + 1} episodes!\")\n",
    "                break\n",
    "\n",
    "    train_time = time.time() - start_time\n",
    "    env.close()\n",
    "    print('Training finished with best avg. reward of:', best_avg_reward)\n",
    "    return policy_network, value_network, rewards_per_episode, train_time, best_avg_reward"
   ],
   "id": "c904b8018b7d43a5",
   "outputs": [],
   "execution_count": 5
  },
  {
   "metadata": {
    "ExecuteTime": {
     "end_time": "2025-01-09T07:26:14.931245Z",
     "start_time": "2025-01-09T07:26:14.927835Z"
    }
   },
   "cell_type": "code",
   "source": [
    "# acrobot_policy, mountaincar_policy = load_source_networks(device, max_input_dim, max_output_dim)\n",
    "#\n",
    "# # 2) Actor-Critic hyperparameters\n",
    "# episodes = 3000\n",
    "# gamma = 0.97\n",
    "# alpha_t = 0.0007\n",
    "# alpha_w = 0.0007\n",
    "# hidden_sizes_t = [32, 64, 32]\n",
    "# hidden_sizes_w = [16, 32, 16]\n",
    "#\n",
    "# writer = SummaryWriter(log_dir=\"runs/progressive_acrobot_mountaincar_to_cartpole_ac\")\n",
    "#\n",
    "# # 3) Train progressive CartPole via Actor-Critic\n",
    "# progressive_policy, progressive_value, rewards, duration = train_progressive_cartpole_actor_critic(\n",
    "#     device=device,\n",
    "#     source_acrobot=acrobot_policy,\n",
    "#     source_mountaincar=mountaincar_policy,\n",
    "#     env_name=\"CartPole-v1\",\n",
    "#     episodes=episodes,\n",
    "#     gamma=gamma,\n",
    "#     alpha_t=alpha_t,\n",
    "#     alpha_w=alpha_w,\n",
    "#     hidden_sizes_t=hidden_sizes_t,\n",
    "#     hidden_sizes_w=hidden_sizes_w,\n",
    "#     writer=writer\n",
    "# )\n",
    "#\n",
    "# writer.close()\n",
    "#\n",
    "# print(f\"\\nTraining finished in {duration:.2f} seconds.\")\n",
    "# print(f\"Final average reward (last 100 episodes): {np.mean(rewards[-100:]):.2f}\")\n",
    "#\n",
    "# # 4) Save the trained progressive policy & value networks\n",
    "# torch.save(progressive_policy.state_dict(), \"models/progressive_acrobot_mountaincar_to_cartpole_policy.pth\")\n",
    "# torch.save(progressive_value.state_dict(), \"models/progressive_acrobot_mountaincar_to_cartpole_value.pth\")"
   ],
   "id": "858925535d045a46",
   "outputs": [],
   "execution_count": 6
  },
  {
   "metadata": {
    "ExecuteTime": {
     "end_time": "2025-01-09T07:26:14.939356Z",
     "start_time": "2025-01-09T07:26:14.935233Z"
    }
   },
   "cell_type": "code",
   "source": [
    "def objective(trial):\n",
    "    \"\"\"\n",
    "    Objective function for Optuna hyperparameter optimization.\n",
    "\n",
    "    Args:\n",
    "        trial (optuna.trial.Trial): A trial object for suggesting hyperparameters.\n",
    "\n",
    "    Returns:\n",
    "        float: The performance metric to minimize or maximize (e.g., average reward).\n",
    "    \"\"\"\n",
    "    # Suggest hyperparameters\n",
    "    gamma = trial.suggest_float('gamma', 0.90, 0.99, step=0.01)\n",
    "    alpha_t = trial.suggest_float('alpha_t', 0.00001, 0.001, log=True)\n",
    "    alpha_w = trial.suggest_float('alpha_w', 0.00001, 0.001, log=True)\n",
    "\n",
    "    # Load source networks\n",
    "    acrobot_policy, mountaincar_policy = load_source_networks(\n",
    "        device=device,\n",
    "        max_input_dim=max_input_dim,\n",
    "        max_output_dim=max_output_dim\n",
    "    )\n",
    "\n",
    "    # Initialize TensorBoard writer (optional, can be None)\n",
    "    writer = SummaryWriter(log_dir=f\"runs/progressive_acrobot_mountaincar_to_cartpole_optuna_trial_{trial.number}\")\n",
    "\n",
    "    # Train the model\n",
    "    policy_net, value_net, rewards, duration, best_avg_reward = train_progressive_cartpole_actor_critic(\n",
    "        device=device,\n",
    "        source_acrobot=acrobot_policy,\n",
    "        source_mountaincar=mountaincar_policy,\n",
    "        env_name=\"CartPole-v1\",\n",
    "        episodes=3000,  # You might reduce this for quicker trials\n",
    "        gamma=gamma,\n",
    "        alpha_t=alpha_t,\n",
    "        alpha_w=alpha_w,\n",
    "        hidden_sizes_t=[32, 64, 32],\n",
    "        hidden_sizes_w=[32, 64, 32],\n",
    "        writer=writer\n",
    "    )\n",
    "\n",
    "    return best_avg_reward"
   ],
   "id": "396b6c90217cc9c1",
   "outputs": [],
   "execution_count": 7
  },
  {
   "metadata": {
    "ExecuteTime": {
     "end_time": "2025-01-09T07:26:14.947545Z",
     "start_time": "2025-01-09T07:26:14.943527Z"
    }
   },
   "cell_type": "code",
   "source": [
    "def optimize_hyperparameters(n_trials=10):\n",
    "    \"\"\"\n",
    "    Sets up and runs the Optuna study for hyperparameter optimization.\n",
    "\n",
    "    Args:\n",
    "        n_trials (int): Number of Optuna trials to run.\n",
    "\n",
    "    Returns:\n",
    "        study (optuna.study.Study): The completed Optuna study.\n",
    "    \"\"\"\n",
    "    study = optuna.create_study(\n",
    "        direction='maximize',  # Since we're maximizing average reward\n",
    "        sampler=optuna.samplers.TPESampler(seed=42)  # Reproducible results\n",
    "    )\n",
    "    study.optimize(objective, n_trials=n_trials)\n",
    "\n",
    "    print(\"Number of finished trials: \", len(study.trials))\n",
    "    print(\"Best trial:\")\n",
    "    trial = study.best_trial\n",
    "\n",
    "    print(\"  Value: \", trial.value)\n",
    "\n",
    "    print(\"  Params: \")\n",
    "    for key, value in trial.params.items():\n",
    "        print(f\"    {key}: {value}\")\n",
    "\n",
    "    return study"
   ],
   "id": "c59313b7b7be5a4c",
   "outputs": [],
   "execution_count": 8
  },
  {
   "metadata": {
    "ExecuteTime": {
     "end_time": "2025-01-09T09:01:26.598281Z",
     "start_time": "2025-01-09T07:26:30.406827Z"
    }
   },
   "cell_type": "code",
   "source": "study = optimize_hyperparameters(n_trials=10)",
   "id": "693fe269a555611b",
   "outputs": [
    {
     "name": "stderr",
     "output_type": "stream",
     "text": [
      "[I 2025-01-09 09:26:30,413] A new study created in memory with name: no-name-20948e57-8aba-4b4e-953a-cfc4b627378c\n",
      "Training: 100%|██████████| 3000/3000 [05:38<00:00,  8.86episode/s, Avg(100)=9.33]   \n",
      "[I 2025-01-09 09:32:09,175] Trial 0 finished with value: 191.23 and parameters: {'gamma': 0.93, 'alpha_t': 0.0007969454818643932, 'alpha_w': 0.000291063591313307}. Best is trial 0 with value: 191.23.\n"
     ]
    },
    {
     "name": "stdout",
     "output_type": "stream",
     "text": [
      "Training finished with best avg. reward of: 191.23\n"
     ]
    },
    {
     "name": "stderr",
     "output_type": "stream",
     "text": [
      "Training: 100%|██████████| 3000/3000 [03:07<00:00, 15.97episode/s, Avg(100)=40.70]\n",
      "[I 2025-01-09 09:35:16,993] Trial 1 finished with value: 41.15 and parameters: {'gamma': 0.9500000000000001, 'alpha_t': 2.0513382630874486e-05, 'alpha_w': 2.0511104188433963e-05}. Best is trial 0 with value: 191.23.\n"
     ]
    },
    {
     "name": "stdout",
     "output_type": "stream",
     "text": [
      "Training finished with best avg. reward of: 41.15\n"
     ]
    },
    {
     "name": "stderr",
     "output_type": "stream",
     "text": [
      "Training: 100%|██████████| 3000/3000 [18:39<00:00,  2.68episode/s, Avg(100)=9.37]    \n",
      "[I 2025-01-09 09:53:56,734] Trial 2 finished with value: 444.1 and parameters: {'gamma': 0.9, 'alpha_t': 0.0005399484409787432, 'alpha_w': 0.00015930522616241006}. Best is trial 2 with value: 444.1.\n"
     ]
    },
    {
     "name": "stdout",
     "output_type": "stream",
     "text": [
      "Training finished with best avg. reward of: 444.1\n"
     ]
    },
    {
     "name": "stderr",
     "output_type": "stream",
     "text": [
      "Training:  71%|███████▏  | 2143/3000 [34:17<13:42,  1.04episode/s, Avg(100)=476.91]\n",
      "[I 2025-01-09 10:28:14,699] Trial 3 finished with value: 476.91 and parameters: {'gamma': 0.97, 'alpha_t': 1.0994335574766187e-05, 'alpha_w': 0.0008706020878304854}. Best is trial 3 with value: 476.91.\n"
     ]
    },
    {
     "name": "stdout",
     "output_type": "stream",
     "text": [
      "Solved CartPole in 2143 episodes!\n",
      "Training finished with best avg. reward of: 476.91\n"
     ]
    },
    {
     "name": "stderr",
     "output_type": "stream",
     "text": [
      "Training: 100%|██████████| 3000/3000 [05:16<00:00,  9.48episode/s, Avg(100)=55.48]\n",
      "[I 2025-01-09 10:33:31,130] Trial 4 finished with value: 55.99 and parameters: {'gamma': 0.98, 'alpha_t': 2.6587543983272695e-05, 'alpha_w': 2.3102018878452926e-05}. Best is trial 3 with value: 476.91.\n"
     ]
    },
    {
     "name": "stdout",
     "output_type": "stream",
     "text": [
      "Training finished with best avg. reward of: 55.99\n"
     ]
    },
    {
     "name": "stderr",
     "output_type": "stream",
     "text": [
      "Training:  96%|█████████▋| 2894/3000 [27:55<01:01,  1.73episode/s, Avg(100)=377.54]\n",
      "[W 2025-01-09 11:01:26,518] Trial 5 failed with parameters: {'gamma': 0.91, 'alpha_t': 4.059611610484306e-05, 'alpha_w': 0.00011207606211860574} because of the following error: KeyboardInterrupt().\n",
      "Traceback (most recent call last):\n",
      "  File \"C:\\Users\\rusanov\\.conda\\envs\\DRL\\Lib\\site-packages\\optuna\\study\\_optimize.py\", line 197, in _run_trial\n",
      "    value_or_values = func(trial)\n",
      "                      ^^^^^^^^^^^\n",
      "  File \"C:\\Users\\rusanov\\AppData\\Local\\Temp\\ipykernel_4080\\1885987866.py\", line 27, in objective\n",
      "    policy_net, value_net, rewards, duration, best_avg_reward = train_progressive_cartpole_actor_critic(\n",
      "                                                                ^^^^^^^^^^^^^^^^^^^^^^^^^^^^^^^^^^^^^^^^\n",
      "  File \"C:\\Users\\rusanov\\AppData\\Local\\Temp\\ipykernel_4080\\604106433.py\", line 70, in train_progressive_cartpole_actor_critic\n",
      "    action, log_prob_action = action_selector.select_action(\n",
      "                              ^^^^^^^^^^^^^^^^^^^^^^^^^^^^^^\n",
      "  File \"C:\\Users\\rusanov\\Desktop\\Deep-Reinforcement-Learning\\assignment3\\Section1\\CartPole_AcroBot\\action_selector.py\", line 10, in select_action\n",
      "    log_prob_action = torch.log(action_probs[0, action])\n",
      "                      ^^^^^^^^^^^^^^^^^^^^^^^^^^^^^^^^^^\n",
      "KeyboardInterrupt\n",
      "[W 2025-01-09 11:01:26,533] Trial 5 failed with value None.\n"
     ]
    },
    {
     "ename": "KeyboardInterrupt",
     "evalue": "",
     "output_type": "error",
     "traceback": [
      "\u001B[1;31m---------------------------------------------------------------------------\u001B[0m",
      "\u001B[1;31mKeyboardInterrupt\u001B[0m                         Traceback (most recent call last)",
      "Cell \u001B[1;32mIn[10], line 1\u001B[0m\n\u001B[1;32m----> 1\u001B[0m study \u001B[38;5;241m=\u001B[39m optimize_hyperparameters(n_trials\u001B[38;5;241m=\u001B[39m\u001B[38;5;241m10\u001B[39m)\n",
      "Cell \u001B[1;32mIn[8], line 15\u001B[0m, in \u001B[0;36moptimize_hyperparameters\u001B[1;34m(n_trials)\u001B[0m\n\u001B[0;32m      2\u001B[0m \u001B[38;5;250m\u001B[39m\u001B[38;5;124;03m\"\"\"\u001B[39;00m\n\u001B[0;32m      3\u001B[0m \u001B[38;5;124;03mSets up and runs the Optuna study for hyperparameter optimization.\u001B[39;00m\n\u001B[0;32m      4\u001B[0m \n\u001B[1;32m   (...)\u001B[0m\n\u001B[0;32m      9\u001B[0m \u001B[38;5;124;03m    study (optuna.study.Study): The completed Optuna study.\u001B[39;00m\n\u001B[0;32m     10\u001B[0m \u001B[38;5;124;03m\"\"\"\u001B[39;00m\n\u001B[0;32m     11\u001B[0m study \u001B[38;5;241m=\u001B[39m optuna\u001B[38;5;241m.\u001B[39mcreate_study(\n\u001B[0;32m     12\u001B[0m     direction\u001B[38;5;241m=\u001B[39m\u001B[38;5;124m'\u001B[39m\u001B[38;5;124mmaximize\u001B[39m\u001B[38;5;124m'\u001B[39m,  \u001B[38;5;66;03m# Since we're maximizing average reward\u001B[39;00m\n\u001B[0;32m     13\u001B[0m     sampler\u001B[38;5;241m=\u001B[39moptuna\u001B[38;5;241m.\u001B[39msamplers\u001B[38;5;241m.\u001B[39mTPESampler(seed\u001B[38;5;241m=\u001B[39m\u001B[38;5;241m42\u001B[39m)  \u001B[38;5;66;03m# Reproducible results\u001B[39;00m\n\u001B[0;32m     14\u001B[0m )\n\u001B[1;32m---> 15\u001B[0m study\u001B[38;5;241m.\u001B[39moptimize(objective, n_trials\u001B[38;5;241m=\u001B[39mn_trials)\n\u001B[0;32m     17\u001B[0m \u001B[38;5;28mprint\u001B[39m(\u001B[38;5;124m\"\u001B[39m\u001B[38;5;124mNumber of finished trials: \u001B[39m\u001B[38;5;124m\"\u001B[39m, \u001B[38;5;28mlen\u001B[39m(study\u001B[38;5;241m.\u001B[39mtrials))\n\u001B[0;32m     18\u001B[0m \u001B[38;5;28mprint\u001B[39m(\u001B[38;5;124m\"\u001B[39m\u001B[38;5;124mBest trial:\u001B[39m\u001B[38;5;124m\"\u001B[39m)\n",
      "File \u001B[1;32m~\\.conda\\envs\\DRL\\Lib\\site-packages\\optuna\\study\\study.py:475\u001B[0m, in \u001B[0;36mStudy.optimize\u001B[1;34m(self, func, n_trials, timeout, n_jobs, catch, callbacks, gc_after_trial, show_progress_bar)\u001B[0m\n\u001B[0;32m    373\u001B[0m \u001B[38;5;28;01mdef\u001B[39;00m \u001B[38;5;21moptimize\u001B[39m(\n\u001B[0;32m    374\u001B[0m     \u001B[38;5;28mself\u001B[39m,\n\u001B[0;32m    375\u001B[0m     func: ObjectiveFuncType,\n\u001B[1;32m   (...)\u001B[0m\n\u001B[0;32m    382\u001B[0m     show_progress_bar: \u001B[38;5;28mbool\u001B[39m \u001B[38;5;241m=\u001B[39m \u001B[38;5;28;01mFalse\u001B[39;00m,\n\u001B[0;32m    383\u001B[0m ) \u001B[38;5;241m-\u001B[39m\u001B[38;5;241m>\u001B[39m \u001B[38;5;28;01mNone\u001B[39;00m:\n\u001B[0;32m    384\u001B[0m \u001B[38;5;250m    \u001B[39m\u001B[38;5;124;03m\"\"\"Optimize an objective function.\u001B[39;00m\n\u001B[0;32m    385\u001B[0m \n\u001B[0;32m    386\u001B[0m \u001B[38;5;124;03m    Optimization is done by choosing a suitable set of hyperparameter values from a given\u001B[39;00m\n\u001B[1;32m   (...)\u001B[0m\n\u001B[0;32m    473\u001B[0m \u001B[38;5;124;03m            If nested invocation of this method occurs.\u001B[39;00m\n\u001B[0;32m    474\u001B[0m \u001B[38;5;124;03m    \"\"\"\u001B[39;00m\n\u001B[1;32m--> 475\u001B[0m     _optimize(\n\u001B[0;32m    476\u001B[0m         study\u001B[38;5;241m=\u001B[39m\u001B[38;5;28mself\u001B[39m,\n\u001B[0;32m    477\u001B[0m         func\u001B[38;5;241m=\u001B[39mfunc,\n\u001B[0;32m    478\u001B[0m         n_trials\u001B[38;5;241m=\u001B[39mn_trials,\n\u001B[0;32m    479\u001B[0m         timeout\u001B[38;5;241m=\u001B[39mtimeout,\n\u001B[0;32m    480\u001B[0m         n_jobs\u001B[38;5;241m=\u001B[39mn_jobs,\n\u001B[0;32m    481\u001B[0m         catch\u001B[38;5;241m=\u001B[39m\u001B[38;5;28mtuple\u001B[39m(catch) \u001B[38;5;28;01mif\u001B[39;00m \u001B[38;5;28misinstance\u001B[39m(catch, Iterable) \u001B[38;5;28;01melse\u001B[39;00m (catch,),\n\u001B[0;32m    482\u001B[0m         callbacks\u001B[38;5;241m=\u001B[39mcallbacks,\n\u001B[0;32m    483\u001B[0m         gc_after_trial\u001B[38;5;241m=\u001B[39mgc_after_trial,\n\u001B[0;32m    484\u001B[0m         show_progress_bar\u001B[38;5;241m=\u001B[39mshow_progress_bar,\n\u001B[0;32m    485\u001B[0m     )\n",
      "File \u001B[1;32m~\\.conda\\envs\\DRL\\Lib\\site-packages\\optuna\\study\\_optimize.py:63\u001B[0m, in \u001B[0;36m_optimize\u001B[1;34m(study, func, n_trials, timeout, n_jobs, catch, callbacks, gc_after_trial, show_progress_bar)\u001B[0m\n\u001B[0;32m     61\u001B[0m \u001B[38;5;28;01mtry\u001B[39;00m:\n\u001B[0;32m     62\u001B[0m     \u001B[38;5;28;01mif\u001B[39;00m n_jobs \u001B[38;5;241m==\u001B[39m \u001B[38;5;241m1\u001B[39m:\n\u001B[1;32m---> 63\u001B[0m         _optimize_sequential(\n\u001B[0;32m     64\u001B[0m             study,\n\u001B[0;32m     65\u001B[0m             func,\n\u001B[0;32m     66\u001B[0m             n_trials,\n\u001B[0;32m     67\u001B[0m             timeout,\n\u001B[0;32m     68\u001B[0m             catch,\n\u001B[0;32m     69\u001B[0m             callbacks,\n\u001B[0;32m     70\u001B[0m             gc_after_trial,\n\u001B[0;32m     71\u001B[0m             reseed_sampler_rng\u001B[38;5;241m=\u001B[39m\u001B[38;5;28;01mFalse\u001B[39;00m,\n\u001B[0;32m     72\u001B[0m             time_start\u001B[38;5;241m=\u001B[39m\u001B[38;5;28;01mNone\u001B[39;00m,\n\u001B[0;32m     73\u001B[0m             progress_bar\u001B[38;5;241m=\u001B[39mprogress_bar,\n\u001B[0;32m     74\u001B[0m         )\n\u001B[0;32m     75\u001B[0m     \u001B[38;5;28;01melse\u001B[39;00m:\n\u001B[0;32m     76\u001B[0m         \u001B[38;5;28;01mif\u001B[39;00m n_jobs \u001B[38;5;241m==\u001B[39m \u001B[38;5;241m-\u001B[39m\u001B[38;5;241m1\u001B[39m:\n",
      "File \u001B[1;32m~\\.conda\\envs\\DRL\\Lib\\site-packages\\optuna\\study\\_optimize.py:160\u001B[0m, in \u001B[0;36m_optimize_sequential\u001B[1;34m(study, func, n_trials, timeout, catch, callbacks, gc_after_trial, reseed_sampler_rng, time_start, progress_bar)\u001B[0m\n\u001B[0;32m    157\u001B[0m         \u001B[38;5;28;01mbreak\u001B[39;00m\n\u001B[0;32m    159\u001B[0m \u001B[38;5;28;01mtry\u001B[39;00m:\n\u001B[1;32m--> 160\u001B[0m     frozen_trial \u001B[38;5;241m=\u001B[39m _run_trial(study, func, catch)\n\u001B[0;32m    161\u001B[0m \u001B[38;5;28;01mfinally\u001B[39;00m:\n\u001B[0;32m    162\u001B[0m     \u001B[38;5;66;03m# The following line mitigates memory problems that can be occurred in some\u001B[39;00m\n\u001B[0;32m    163\u001B[0m     \u001B[38;5;66;03m# environments (e.g., services that use computing containers such as GitHub Actions).\u001B[39;00m\n\u001B[0;32m    164\u001B[0m     \u001B[38;5;66;03m# Please refer to the following PR for further details:\u001B[39;00m\n\u001B[0;32m    165\u001B[0m     \u001B[38;5;66;03m# https://github.com/optuna/optuna/pull/325.\u001B[39;00m\n\u001B[0;32m    166\u001B[0m     \u001B[38;5;28;01mif\u001B[39;00m gc_after_trial:\n",
      "File \u001B[1;32m~\\.conda\\envs\\DRL\\Lib\\site-packages\\optuna\\study\\_optimize.py:248\u001B[0m, in \u001B[0;36m_run_trial\u001B[1;34m(study, func, catch)\u001B[0m\n\u001B[0;32m    241\u001B[0m         \u001B[38;5;28;01massert\u001B[39;00m \u001B[38;5;28;01mFalse\u001B[39;00m, \u001B[38;5;124m\"\u001B[39m\u001B[38;5;124mShould not reach.\u001B[39m\u001B[38;5;124m\"\u001B[39m\n\u001B[0;32m    243\u001B[0m \u001B[38;5;28;01mif\u001B[39;00m (\n\u001B[0;32m    244\u001B[0m     frozen_trial\u001B[38;5;241m.\u001B[39mstate \u001B[38;5;241m==\u001B[39m TrialState\u001B[38;5;241m.\u001B[39mFAIL\n\u001B[0;32m    245\u001B[0m     \u001B[38;5;129;01mand\u001B[39;00m func_err \u001B[38;5;129;01mis\u001B[39;00m \u001B[38;5;129;01mnot\u001B[39;00m \u001B[38;5;28;01mNone\u001B[39;00m\n\u001B[0;32m    246\u001B[0m     \u001B[38;5;129;01mand\u001B[39;00m \u001B[38;5;129;01mnot\u001B[39;00m \u001B[38;5;28misinstance\u001B[39m(func_err, catch)\n\u001B[0;32m    247\u001B[0m ):\n\u001B[1;32m--> 248\u001B[0m     \u001B[38;5;28;01mraise\u001B[39;00m func_err\n\u001B[0;32m    249\u001B[0m \u001B[38;5;28;01mreturn\u001B[39;00m frozen_trial\n",
      "File \u001B[1;32m~\\.conda\\envs\\DRL\\Lib\\site-packages\\optuna\\study\\_optimize.py:197\u001B[0m, in \u001B[0;36m_run_trial\u001B[1;34m(study, func, catch)\u001B[0m\n\u001B[0;32m    195\u001B[0m \u001B[38;5;28;01mwith\u001B[39;00m get_heartbeat_thread(trial\u001B[38;5;241m.\u001B[39m_trial_id, study\u001B[38;5;241m.\u001B[39m_storage):\n\u001B[0;32m    196\u001B[0m     \u001B[38;5;28;01mtry\u001B[39;00m:\n\u001B[1;32m--> 197\u001B[0m         value_or_values \u001B[38;5;241m=\u001B[39m func(trial)\n\u001B[0;32m    198\u001B[0m     \u001B[38;5;28;01mexcept\u001B[39;00m exceptions\u001B[38;5;241m.\u001B[39mTrialPruned \u001B[38;5;28;01mas\u001B[39;00m e:\n\u001B[0;32m    199\u001B[0m         \u001B[38;5;66;03m# TODO(mamu): Handle multi-objective cases.\u001B[39;00m\n\u001B[0;32m    200\u001B[0m         state \u001B[38;5;241m=\u001B[39m TrialState\u001B[38;5;241m.\u001B[39mPRUNED\n",
      "Cell \u001B[1;32mIn[7], line 27\u001B[0m, in \u001B[0;36mobjective\u001B[1;34m(trial)\u001B[0m\n\u001B[0;32m     24\u001B[0m writer \u001B[38;5;241m=\u001B[39m SummaryWriter(log_dir\u001B[38;5;241m=\u001B[39m\u001B[38;5;124mf\u001B[39m\u001B[38;5;124m\"\u001B[39m\u001B[38;5;124mruns/progressive_acrobot_mountaincar_to_cartpole_optuna_trial_\u001B[39m\u001B[38;5;132;01m{\u001B[39;00mtrial\u001B[38;5;241m.\u001B[39mnumber\u001B[38;5;132;01m}\u001B[39;00m\u001B[38;5;124m\"\u001B[39m)\n\u001B[0;32m     26\u001B[0m \u001B[38;5;66;03m# Train the model\u001B[39;00m\n\u001B[1;32m---> 27\u001B[0m policy_net, value_net, rewards, duration, best_avg_reward \u001B[38;5;241m=\u001B[39m train_progressive_cartpole_actor_critic(\n\u001B[0;32m     28\u001B[0m     device\u001B[38;5;241m=\u001B[39mdevice,\n\u001B[0;32m     29\u001B[0m     source_acrobot\u001B[38;5;241m=\u001B[39macrobot_policy,\n\u001B[0;32m     30\u001B[0m     source_mountaincar\u001B[38;5;241m=\u001B[39mmountaincar_policy,\n\u001B[0;32m     31\u001B[0m     env_name\u001B[38;5;241m=\u001B[39m\u001B[38;5;124m\"\u001B[39m\u001B[38;5;124mCartPole-v1\u001B[39m\u001B[38;5;124m\"\u001B[39m,\n\u001B[0;32m     32\u001B[0m     episodes\u001B[38;5;241m=\u001B[39m\u001B[38;5;241m3000\u001B[39m,  \u001B[38;5;66;03m# You might reduce this for quicker trials\u001B[39;00m\n\u001B[0;32m     33\u001B[0m     gamma\u001B[38;5;241m=\u001B[39mgamma,\n\u001B[0;32m     34\u001B[0m     alpha_t\u001B[38;5;241m=\u001B[39malpha_t,\n\u001B[0;32m     35\u001B[0m     alpha_w\u001B[38;5;241m=\u001B[39malpha_w,\n\u001B[0;32m     36\u001B[0m     hidden_sizes_t\u001B[38;5;241m=\u001B[39m[\u001B[38;5;241m32\u001B[39m, \u001B[38;5;241m64\u001B[39m, \u001B[38;5;241m32\u001B[39m],\n\u001B[0;32m     37\u001B[0m     hidden_sizes_w\u001B[38;5;241m=\u001B[39m[\u001B[38;5;241m32\u001B[39m, \u001B[38;5;241m64\u001B[39m, \u001B[38;5;241m32\u001B[39m],\n\u001B[0;32m     38\u001B[0m     writer\u001B[38;5;241m=\u001B[39mwriter\n\u001B[0;32m     39\u001B[0m )\n\u001B[0;32m     41\u001B[0m \u001B[38;5;28;01mreturn\u001B[39;00m best_avg_reward\n",
      "Cell \u001B[1;32mIn[5], line 70\u001B[0m, in \u001B[0;36mtrain_progressive_cartpole_actor_critic\u001B[1;34m(device, source_acrobot, source_mountaincar, env_name, episodes, gamma, alpha_t, alpha_w, hidden_sizes_t, hidden_sizes_w, writer)\u001B[0m\n\u001B[0;32m     68\u001B[0m action_probs \u001B[38;5;241m=\u001B[39m policy_network(state_tensor)  \u001B[38;5;66;03m# shape [1,2]\u001B[39;00m\n\u001B[0;32m     69\u001B[0m \u001B[38;5;66;03m# sample discrete action\u001B[39;00m\n\u001B[1;32m---> 70\u001B[0m action, log_prob_action \u001B[38;5;241m=\u001B[39m action_selector\u001B[38;5;241m.\u001B[39mselect_action(\n\u001B[0;32m     71\u001B[0m     action_probs, valid_action_dim\u001B[38;5;241m=\u001B[39m\u001B[38;5;241m2\u001B[39m\n\u001B[0;32m     72\u001B[0m )\n\u001B[0;32m     74\u001B[0m \u001B[38;5;66;03m# Step in environment\u001B[39;00m\n\u001B[0;32m     75\u001B[0m next_state, reward, done, truncated, info \u001B[38;5;241m=\u001B[39m env\u001B[38;5;241m.\u001B[39mstep(action)\n",
      "File \u001B[1;32m~\\Desktop\\Deep-Reinforcement-Learning\\assignment3\\Section1\\CartPole_AcroBot\\action_selector.py:10\u001B[0m, in \u001B[0;36mActionSelector.select_action\u001B[1;34m(self, action_probs, valid_action_dim)\u001B[0m\n\u001B[0;32m      7\u001B[0m \u001B[38;5;28;01mdef\u001B[39;00m \u001B[38;5;21mselect_action\u001B[39m(\u001B[38;5;28mself\u001B[39m, action_probs, valid_action_dim):\n\u001B[0;32m      8\u001B[0m     \u001B[38;5;66;03m# Sample valid action from first 'actual_act_dim' entries\u001B[39;00m\n\u001B[0;32m      9\u001B[0m     action \u001B[38;5;241m=\u001B[39m sample_valid_action(action_probs, valid_action_dim\u001B[38;5;241m=\u001B[39mvalid_action_dim)\n\u001B[1;32m---> 10\u001B[0m     log_prob_action \u001B[38;5;241m=\u001B[39m torch\u001B[38;5;241m.\u001B[39mlog(action_probs[\u001B[38;5;241m0\u001B[39m, action])\n\u001B[0;32m     11\u001B[0m     \u001B[38;5;28;01mreturn\u001B[39;00m action\u001B[38;5;241m.\u001B[39mitem(), log_prob_action\n",
      "\u001B[1;31mKeyboardInterrupt\u001B[0m: "
     ]
    }
   ],
   "execution_count": 10
  },
  {
   "metadata": {},
   "cell_type": "code",
   "outputs": [],
   "execution_count": null,
   "source": "",
   "id": "e46bf165d36e3692"
  }
 ],
 "metadata": {
  "kernelspec": {
   "display_name": "Python 3",
   "language": "python",
   "name": "python3"
  },
  "language_info": {
   "codemirror_mode": {
    "name": "ipython",
    "version": 2
   },
   "file_extension": ".py",
   "mimetype": "text/x-python",
   "name": "python",
   "nbconvert_exporter": "python",
   "pygments_lexer": "ipython2",
   "version": "2.7.6"
  }
 },
 "nbformat": 4,
 "nbformat_minor": 5
}
